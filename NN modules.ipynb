{
 "cells": [
  {
   "cell_type": "code",
   "execution_count": 2,
   "id": "4fb970b6-c70d-4b69-9bfc-8194e1da0cd7",
   "metadata": {},
   "outputs": [],
   "source": [
    "import torch\n",
    "import torch.nn as nn"
   ]
  },
  {
   "cell_type": "code",
   "execution_count": 4,
   "id": "d34a0c4e-766d-4465-9c21-3a99228582ee",
   "metadata": {},
   "outputs": [],
   "source": [
    "class Model(nn.Module):\n",
    "    def __init__(self, num_features):\n",
    "\n",
    "        super().__init__()\n",
    "        self.linear = nn.Linear(num_features, 1)\n",
    "        self.sigmoid = nn.Sigmoid()\n",
    "\n",
    "    def forward(self, features):\n",
    "        out = self.linear(features)\n",
    "        out = self.sigmoid(out)\n",
    "\n",
    "        return out"
   ]
  },
  {
   "cell_type": "code",
   "execution_count": 8,
   "id": "4cb3a9d4-11c7-4875-80e3-fc88546d4207",
   "metadata": {},
   "outputs": [
    {
     "data": {
      "text/plain": [
       "tensor([[0.3943],\n",
       "        [0.3114],\n",
       "        [0.3902],\n",
       "        [0.3283],\n",
       "        [0.3378],\n",
       "        [0.3526],\n",
       "        [0.3636],\n",
       "        [0.3640],\n",
       "        [0.3622],\n",
       "        [0.2895]], grad_fn=<SigmoidBackward0>)"
      ]
     },
     "execution_count": 8,
     "metadata": {},
     "output_type": "execute_result"
    }
   ],
   "source": [
    "features = torch.rand(10, 5)\n",
    "\n",
    "model = Model(features.shape[1])\n",
    "\n",
    "#call forward pass\n",
    "model(features)\n",
    "# work same as model.forward(features)...pytorch inbuilt feature"
   ]
  },
  {
   "cell_type": "code",
   "execution_count": 98,
   "id": "80b20d8c-faa6-4eaa-8bca-529c1f4f02fe",
   "metadata": {},
   "outputs": [
    {
     "data": {
      "text/plain": [
       "Parameter containing:\n",
       "tensor([[ 0.2652,  0.0352,  0.2531, -0.2539,  0.3610],\n",
       "        [ 0.1678,  0.1502, -0.1215,  0.2617, -0.1732],\n",
       "        [-0.1914,  0.0480,  0.3591, -0.3574, -0.1553]], requires_grad=True)"
      ]
     },
     "execution_count": 98,
     "metadata": {},
     "output_type": "execute_result"
    }
   ],
   "source": [
    "model.linear.weight"
   ]
  },
  {
   "cell_type": "code",
   "execution_count": 14,
   "id": "bf083226-01d5-4e56-bd8f-bd505b0fa82e",
   "metadata": {},
   "outputs": [
    {
     "data": {
      "text/plain": [
       "Parameter containing:\n",
       "tensor([-0.2209], requires_grad=True)"
      ]
     },
     "execution_count": 14,
     "metadata": {},
     "output_type": "execute_result"
    }
   ],
   "source": [
    "model.linear.bias"
   ]
  },
  {
   "cell_type": "code",
   "execution_count": 20,
   "id": "062d5029-5dfe-41b3-b48d-b36d30afabbd",
   "metadata": {},
   "outputs": [
    {
     "data": {
      "text/plain": [
       "=================================================================\n",
       "Layer (type:depth-idx)                   Param #\n",
       "=================================================================\n",
       "Model                                    --\n",
       "├─Linear: 1-1                            6\n",
       "├─Sigmoid: 1-2                           --\n",
       "=================================================================\n",
       "Total params: 6\n",
       "Trainable params: 6\n",
       "Non-trainable params: 0\n",
       "================================================================="
      ]
     },
     "execution_count": 20,
     "metadata": {},
     "output_type": "execute_result"
    }
   ],
   "source": [
    "from torchinfo import summary\n",
    "\n",
    "summary(model, inpu_size=(10, 5))"
   ]
  },
  {
   "cell_type": "code",
   "execution_count": 18,
   "id": "324b0097-0c03-4cc7-862f-e0eee641b9c7",
   "metadata": {},
   "outputs": [
    {
     "name": "stdout",
     "output_type": "stream",
     "text": [
      "Collecting torchinfo\n",
      "  Downloading torchinfo-1.8.0-py3-none-any.whl.metadata (21 kB)\n",
      "Downloading torchinfo-1.8.0-py3-none-any.whl (23 kB)\n",
      "Installing collected packages: torchinfo\n",
      "Successfully installed torchinfo-1.8.0\n",
      "Note: you may need to restart the kernel to use updated packages.\n"
     ]
    }
   ],
   "source": [
    "pip install torchinfo"
   ]
  },
  {
   "cell_type": "markdown",
   "id": "98ad19c7-8035-4ff6-9b3d-b9517a026367",
   "metadata": {},
   "source": [
    "## Another Example"
   ]
  },
  {
   "cell_type": "code",
   "execution_count": 92,
   "id": "fd6e0011-d893-47e4-8067-b4a9e75d4e67",
   "metadata": {},
   "outputs": [],
   "source": [
    "class Model(nn.Module):\n",
    "    def __init__(self, num_features):\n",
    "        super().__init__()\n",
    "        self.linear = nn.Linear(num_features, 3)\n",
    "        self.relu = nn.ReLU()\n",
    "        self.linear2 = nn.Linear(3, 1)\n",
    "        self.sigmoid = nn.Sigmoid()\n",
    "        \n",
    "    def forward(self, features):\n",
    "        out = self.linear(features)\n",
    "        out = self.relu(out)\n",
    "        out = self.linear2(out)\n",
    "        out = self.sigmoid(out)\n",
    "\n",
    "        return out"
   ]
  },
  {
   "cell_type": "code",
   "execution_count": 94,
   "id": "36a7f82c-0e9f-45da-8619-9fed760d642b",
   "metadata": {},
   "outputs": [
    {
     "data": {
      "text/plain": [
       "tensor([[0.4427],\n",
       "        [0.4170],\n",
       "        [0.4268],\n",
       "        [0.4461],\n",
       "        [0.4238],\n",
       "        [0.4752],\n",
       "        [0.4748],\n",
       "        [0.4525],\n",
       "        [0.4439],\n",
       "        [0.4277]], grad_fn=<SigmoidBackward0>)"
      ]
     },
     "execution_count": 94,
     "metadata": {},
     "output_type": "execute_result"
    }
   ],
   "source": [
    "features = torch.rand(10, 5)\n",
    "\n",
    "model = Model(features.shape[1])\n",
    "\n",
    "model(features)"
   ]
  },
  {
   "cell_type": "code",
   "execution_count": 80,
   "id": "a029ea00-1987-4ac6-b241-26d59987fbf0",
   "metadata": {},
   "outputs": [
    {
     "data": {
      "text/plain": [
       "Parameter containing:\n",
       "tensor([[-0.3731, -0.2961, -0.2262,  0.2509,  0.4091],\n",
       "        [-0.2624, -0.1020, -0.0799,  0.0701,  0.0806],\n",
       "        [-0.3211,  0.4327, -0.3129, -0.0707, -0.3959]], requires_grad=True)"
      ]
     },
     "execution_count": 80,
     "metadata": {},
     "output_type": "execute_result"
    }
   ],
   "source": [
    "model.linear.weight"
   ]
  },
  {
   "cell_type": "code",
   "execution_count": 82,
   "id": "7d05d9b3-6bd7-4abb-8ac1-dbd5b7a7dd48",
   "metadata": {},
   "outputs": [
    {
     "data": {
      "text/plain": [
       "=================================================================\n",
       "Layer (type:depth-idx)                   Param #\n",
       "=================================================================\n",
       "Model                                    --\n",
       "├─Linear: 1-1                            18\n",
       "├─ReLU: 1-2                              --\n",
       "├─Linear: 1-3                            4\n",
       "├─Sigmoid: 1-4                           --\n",
       "=================================================================\n",
       "Total params: 22\n",
       "Trainable params: 22\n",
       "Non-trainable params: 0\n",
       "================================================================="
      ]
     },
     "execution_count": 82,
     "metadata": {},
     "output_type": "execute_result"
    }
   ],
   "source": [
    "summary(model, inpu_size=(10, 5))"
   ]
  },
  {
   "cell_type": "markdown",
   "id": "61bb57e7-f3e9-4a03-a8f2-8d94a65f6cb8",
   "metadata": {},
   "source": [
    "## Making it easy"
   ]
  },
  {
   "cell_type": "code",
   "execution_count": 85,
   "id": "6e416ec1-5326-4517-8c80-604a0f295acd",
   "metadata": {},
   "outputs": [],
   "source": [
    "class Model(nn.Module):\n",
    "    def __init__(self, num_features):\n",
    "        super().__init__()\n",
    "        self.network = nn.Sequential(\n",
    "            nn.Linear(num_features, 3),\n",
    "            nn.ReLU(),\n",
    "            nn.Linear(3, 1),\n",
    "            nn.Sigmoid()\n",
    "        )\n",
    "        \n",
    "    def forward(self, features):\n",
    "        out = self.network(features)\n",
    "\n",
    "        return out"
   ]
  },
  {
   "cell_type": "code",
   "execution_count": 87,
   "id": "7d29e4c5-e190-4024-b40a-661d30b140e6",
   "metadata": {},
   "outputs": [
    {
     "data": {
      "text/plain": [
       "tensor([[0.5455],\n",
       "        [0.5533],\n",
       "        [0.5826],\n",
       "        [0.5333],\n",
       "        [0.5479],\n",
       "        [0.5654],\n",
       "        [0.5743],\n",
       "        [0.5502],\n",
       "        [0.5390],\n",
       "        [0.5588]], grad_fn=<SigmoidBackward0>)"
      ]
     },
     "execution_count": 87,
     "metadata": {},
     "output_type": "execute_result"
    }
   ],
   "source": [
    "features = torch.rand(10, 5)\n",
    "\n",
    "model = Model(features.shape[1])\n",
    "\n",
    "#call forward pass\n",
    "model(features)"
   ]
  },
  {
   "cell_type": "code",
   "execution_count": null,
   "id": "4d4b01e2-e66a-4ee9-a510-4340017547bd",
   "metadata": {},
   "outputs": [],
   "source": []
  },
  {
   "cell_type": "code",
   "execution_count": null,
   "id": "93ad16ec-8894-4f41-ada7-7039ed641f80",
   "metadata": {},
   "outputs": [],
   "source": []
  }
 ],
 "metadata": {
  "kernelspec": {
   "display_name": "Python (pytorch_env)",
   "language": "python",
   "name": "pytorch_env"
  },
  "language_info": {
   "codemirror_mode": {
    "name": "ipython",
    "version": 3
   },
   "file_extension": ".py",
   "mimetype": "text/x-python",
   "name": "python",
   "nbconvert_exporter": "python",
   "pygments_lexer": "ipython3",
   "version": "3.8.20"
  }
 },
 "nbformat": 4,
 "nbformat_minor": 5
}
