{
 "cells": [
  {
   "cell_type": "code",
   "execution_count": 1,
   "id": "64566c74-6a9b-41fa-bd91-6c285ab13e05",
   "metadata": {},
   "outputs": [],
   "source": [
    "import numpy as np"
   ]
  },
  {
   "cell_type": "code",
   "execution_count": 2,
   "id": "9230b319-e1fb-4516-8247-0ea879876b2f",
   "metadata": {},
   "outputs": [],
   "source": [
    "def sigmoid(x):\n",
    "    return 1/(1 + np.exp(-x))\n",
    "\n",
    "def sigmoid_derivative(x):\n",
    "    return x * (1 - x)"
   ]
  },
  {
   "cell_type": "code",
   "execution_count": 4,
   "id": "4f10e144-8324-4550-8c90-6b6b76617886",
   "metadata": {},
   "outputs": [],
   "source": [
    "input_size = 3\n",
    "hidden_size = 4\n",
    "output_size = 1\n",
    "\n",
    "np.random.seed(42)\n",
    "input_hidden_weight = np.random.randn(input_size, hidden_size)\n",
    "hidden_output_weight = np.random.randn(hidden_size, output_size)\n",
    "hidden_bias = np.zeros((1, hidden_size))\n",
    "output_bias = np.zeros((1, output_size))"
   ]
  },
  {
   "cell_type": "code",
   "execution_count": 19,
   "id": "39983290-246a-4842-8646-3a448c0a6357",
   "metadata": {},
   "outputs": [],
   "source": [
    "def forward_pass(input):\n",
    "    global hidden_layer_input, hidden_layer_output, output_layer_input, output_layer_output\n",
    "\n",
    "    hidden_layer_input = np.dot(input, input_hidden_weight) + hidden_bias\n",
    "    hidden_layer_output = sigmoid(hidden_layer_input)\n",
    "\n",
    "    output_layer_input = np.dot(hidden_layer_output, hidden_output_weight) + output_bias\n",
    "    output_layer_output = sigmoid(output_layer_input)\n",
    "\n",
    "    return output_layer_output"
   ]
  },
  {
   "cell_type": "code",
   "execution_count": 24,
   "id": "4381644e-8773-44f6-b92e-62efed7024ff",
   "metadata": {},
   "outputs": [],
   "source": [
    "def backward_pass(input, target, output, learning_rate = 0.1):\n",
    "    global input_hidden_weight, hidden_output_weight, hidden_bias, output_bias\n",
    "\n",
    "    output_error = target - output_layer_output\n",
    "    output_delta = output_error * sigmoid_derivative(output_layer_output)\n",
    "\n",
    "    hidden_error = output_delta.dot(hidden_output_weight.T)\n",
    "    hidden_delta = hidden_error * sigmoid_derivative(hidden_layer_output)\n",
    "\n",
    "    hidden_output_weight += hidden_layer_output.T.dot(output_delta) * learning_rate\n",
    "    output_bias += np.sum(output_delta, axis = 0, keepdims=True) * learning_rate\n",
    "\n",
    "    input_hidden_weight += input.T.dot(hidden_delta) * learning_rate\n",
    "    hidden_bias += np.sum(hidden_delta, axis = 0, keepdims=True) * learning_rate"
   ]
  },
  {
   "cell_type": "code",
   "execution_count": 25,
   "id": "99aa22e0-7788-435e-b8b9-761df5ac18ff",
   "metadata": {},
   "outputs": [],
   "source": [
    "input = np.array([[0,0,1],\n",
    "                 [0,1,1],\n",
    "                 [1,0,1],\n",
    "                 [1,1,1]])\n",
    "\n",
    "target = np.array([[0], [1], [1], [0]])"
   ]
  },
  {
   "cell_type": "code",
   "execution_count": 26,
   "id": "901bcbd7-690f-4237-89f6-dd545134b6a1",
   "metadata": {},
   "outputs": [
    {
     "name": "stdout",
     "output_type": "stream",
     "text": [
      "Epoch 0, loss: 0.4317862380876874\n",
      "Epoch 1000, loss: 0.18074195019192327\n",
      "Epoch 2000, loss: 0.034485478975888634\n",
      "Epoch 3000, loss: 0.012033683306619998\n",
      "Epoch 4000, loss: 0.006624708450109788\n",
      "Epoch 5000, loss: 0.004423480406034464\n",
      "Epoch 6000, loss: 0.0032697625183109934\n",
      "Epoch 7000, loss: 0.002571270734297996\n",
      "Epoch 8000, loss: 0.00210740205145661\n",
      "Epoch 9000, loss: 0.001778928983154918\n"
     ]
    }
   ],
   "source": [
    "epochs = 10000\n",
    "for i in range(epochs):\n",
    "    output = forward_pass(input)\n",
    "    backward_pass(input, target, output)\n",
    "\n",
    "    if i%1000 == 0:\n",
    "        loss = np.mean((target - output) ** 2)\n",
    "        print(f\"Epoch {i}, loss: {loss}\")"
   ]
  },
  {
   "cell_type": "code",
   "execution_count": 28,
   "id": "11bb1c80-6621-4899-ae44-11e865c7b0c9",
   "metadata": {},
   "outputs": [
    {
     "name": "stdout",
     "output_type": "stream",
     "text": [
      "Final Output:\n",
      "[[0.03449697]\n",
      " [0.95947425]\n",
      " [0.96142265]\n",
      " [0.04266051]]\n"
     ]
    }
   ],
   "source": [
    "print(\"Final Output:\")\n",
    "print(forward_pass(input))"
   ]
  },
  {
   "cell_type": "code",
   "execution_count": null,
   "id": "ee4d59f5-55ff-4b84-a54e-eeb8cc6335a2",
   "metadata": {},
   "outputs": [],
   "source": []
  }
 ],
 "metadata": {
  "kernelspec": {
   "display_name": "Python 3 (ipykernel)",
   "language": "python",
   "name": "python3"
  },
  "language_info": {
   "codemirror_mode": {
    "name": "ipython",
    "version": 3
   },
   "file_extension": ".py",
   "mimetype": "text/x-python",
   "name": "python",
   "nbconvert_exporter": "python",
   "pygments_lexer": "ipython3",
   "version": "3.12.4"
  }
 },
 "nbformat": 4,
 "nbformat_minor": 5
}
