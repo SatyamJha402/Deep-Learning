{
 "cells": [
  {
   "cell_type": "code",
   "execution_count": 199,
   "id": "8ab9e0e4-4911-4d7e-8039-fe4c99637d37",
   "metadata": {},
   "outputs": [],
   "source": [
    "import torch"
   ]
  },
  {
   "cell_type": "code",
   "execution_count": 2,
   "id": "f83a858e-a375-4535-886f-b77778bace4f",
   "metadata": {},
   "outputs": [
    {
     "data": {
      "text/plain": [
       "tensor([1., 1., 1.])"
      ]
     },
     "execution_count": 2,
     "metadata": {},
     "output_type": "execute_result"
    }
   ],
   "source": [
    "a = torch.ones(3)\n",
    "a"
   ]
  },
  {
   "cell_type": "code",
   "execution_count": 14,
   "id": "1000fa21-afb4-41b9-a0e7-1f6c3c717179",
   "metadata": {},
   "outputs": [
    {
     "data": {
      "text/plain": [
       "1.0"
      ]
     },
     "execution_count": 14,
     "metadata": {},
     "output_type": "execute_result"
    }
   ],
   "source": [
    "float(a[1])"
   ]
  },
  {
   "cell_type": "code",
   "execution_count": 30,
   "id": "8c7c9777-7866-44d3-a6bd-0a071b83d32b",
   "metadata": {},
   "outputs": [
    {
     "data": {
      "text/plain": [
       "5.0"
      ]
     },
     "execution_count": 30,
     "metadata": {},
     "output_type": "execute_result"
    }
   ],
   "source": [
    "a[2] = 5.\n",
    "float(a[2])"
   ]
  },
  {
   "cell_type": "code",
   "execution_count": 42,
   "id": "bd6af23b-a7a4-475e-9c98-5ee32c18e60d",
   "metadata": {},
   "outputs": [
    {
     "data": {
      "text/plain": [
       "tensor([[0., 0., 0.],\n",
       "        [0., 0., 0.],\n",
       "        [0., 0., 0.],\n",
       "        [0., 0., 0.],\n",
       "        [0., 0., 0.],\n",
       "        [0., 0., 0.]])"
      ]
     },
     "execution_count": 42,
     "metadata": {},
     "output_type": "execute_result"
    }
   ],
   "source": [
    "points = torch.zeros(6,3)\n",
    "points"
   ]
  },
  {
   "cell_type": "code",
   "execution_count": 216,
   "id": "8a5196a7-e8ae-43be-a54b-58365c0bbab6",
   "metadata": {},
   "outputs": [
    {
     "data": {
      "text/plain": [
       "tensor([[[4., 3., 5.],\n",
       "         [1., 9., 2.]],\n",
       "\n",
       "        [[5., 8., 7.],\n",
       "         [4., 5., 8.]]])"
      ]
     },
     "execution_count": 216,
     "metadata": {},
     "output_type": "execute_result"
    }
   ],
   "source": [
    "points = torch.tensor([[[4.,3.,5.], [1.,9.,2.]], [[5.,8.,7.], [4.,5.,8]]])\n",
    "points"
   ]
  },
  {
   "cell_type": "code",
   "execution_count": 152,
   "id": "83ef56f3-5c41-445b-8bf8-d8228040e9c3",
   "metadata": {},
   "outputs": [
    {
     "data": {
      "text/plain": [
       "tensor([[4, 3, 5],\n",
       "        [1, 9, 2],\n",
       "        [5, 8, 7],\n",
       "        [4, 5, 8]])"
      ]
     },
     "execution_count": 152,
     "metadata": {},
     "output_type": "execute_result"
    }
   ],
   "source": [
    "point = torch.tensor([[4,3,5], [1,9,2], [5,8,7], [4,5,8]])\n",
    "point"
   ]
  },
  {
   "cell_type": "code",
   "execution_count": 154,
   "id": "22ae367b-f8da-421a-af49-c7018e6d8ab7",
   "metadata": {},
   "outputs": [
    {
     "data": {
      "text/plain": [
       "2.0"
      ]
     },
     "execution_count": 154,
     "metadata": {},
     "output_type": "execute_result"
    }
   ],
   "source": [
    "float(points[0][1][2])"
   ]
  },
  {
   "cell_type": "code",
   "execution_count": 156,
   "id": "0280b190-092b-4109-b798-fb499e630376",
   "metadata": {},
   "outputs": [
    {
     "data": {
      "text/plain": [
       "torch.Size([2, 2, 3])"
      ]
     },
     "execution_count": 156,
     "metadata": {},
     "output_type": "execute_result"
    }
   ],
   "source": [
    "points.shape"
   ]
  },
  {
   "cell_type": "code",
   "execution_count": 158,
   "id": "6562787c-0a33-49cf-8705-e98488b7b113",
   "metadata": {},
   "outputs": [
    {
     "data": {
      "text/plain": [
       "torch.Size([4, 3])"
      ]
     },
     "execution_count": 158,
     "metadata": {},
     "output_type": "execute_result"
    }
   ],
   "source": [
    "point.shape"
   ]
  },
  {
   "cell_type": "code",
   "execution_count": 160,
   "id": "ddbd02bb-ba28-41da-97c0-198302fc0552",
   "metadata": {},
   "outputs": [
    {
     "data": {
      "text/plain": [
       "tensor([[[4., 3., 5.],\n",
       "         [1., 9., 2.]]])"
      ]
     },
     "execution_count": 160,
     "metadata": {},
     "output_type": "execute_result"
    }
   ],
   "source": [
    "points[:-1]"
   ]
  },
  {
   "cell_type": "code",
   "execution_count": 162,
   "id": "21faf7dd-7669-4ff4-b616-9b247b0b6a27",
   "metadata": {},
   "outputs": [
    {
     "data": {
      "text/plain": [
       "tensor([[[5., 8., 7.],\n",
       "         [4., 5., 8.]]])"
      ]
     },
     "execution_count": 162,
     "metadata": {},
     "output_type": "execute_result"
    }
   ],
   "source": [
    "points[1:,0:]"
   ]
  },
  {
   "cell_type": "code",
   "execution_count": 164,
   "id": "55b5c347-e5ad-41a9-967e-e1c4f2d0587b",
   "metadata": {},
   "outputs": [],
   "source": [
    "img_t = torch.randn(3,5,5)"
   ]
  },
  {
   "cell_type": "code",
   "execution_count": 166,
   "id": "41ff6e6e-8c13-47df-b6d0-3df9a8c80def",
   "metadata": {},
   "outputs": [],
   "source": [
    "weights = torch.tensor([0.2126, 0.7152, 0.0722])"
   ]
  },
  {
   "cell_type": "code",
   "execution_count": 168,
   "id": "e9f2e1f8-130b-4255-81f9-45df05f5b715",
   "metadata": {},
   "outputs": [],
   "source": [
    "batch_t = torch.rand(2,3,5,5)"
   ]
  },
  {
   "cell_type": "code",
   "execution_count": 170,
   "id": "73093aa3-2020-46b5-81cc-c1d2466ce85e",
   "metadata": {},
   "outputs": [],
   "source": [
    "img_gray_naive = img_t.mean(-3)\n",
    "batch_gray_naive = batch_t.mean(-3)"
   ]
  },
  {
   "cell_type": "code",
   "execution_count": 172,
   "id": "be6bf398-235c-478a-a400-114054eaad75",
   "metadata": {},
   "outputs": [
    {
     "data": {
      "text/plain": [
       "(torch.Size([5, 5]), torch.Size([2, 5, 5]))"
      ]
     },
     "execution_count": 172,
     "metadata": {},
     "output_type": "execute_result"
    }
   ],
   "source": [
    "img_gray_naive.shape, batch_gray_naive.shape"
   ]
  },
  {
   "cell_type": "code",
   "execution_count": 174,
   "id": "40ae16a0-d034-45f4-8138-8773a0c97f8b",
   "metadata": {},
   "outputs": [
    {
     "data": {
      "text/plain": [
       "tensor([[[ 0.8599, -0.6675,  0.3590,  0.0870,  1.5669],\n",
       "         [-0.0166, -1.6247, -0.5679, -1.0924, -0.4805],\n",
       "         [ 0.3260,  0.8296, -1.6809, -0.1532, -1.7872],\n",
       "         [ 0.9175, -0.0315,  0.3745, -0.3988, -0.8967],\n",
       "         [-0.2082,  2.0458, -0.4996,  0.0054, -0.2686]],\n",
       "\n",
       "        [[-2.8674,  0.7165,  0.0206,  1.5593,  0.3876],\n",
       "         [-1.9798, -0.2999, -0.5184, -2.4486, -0.3666],\n",
       "         [ 2.0665, -1.0965, -0.3011,  1.0020, -0.3994],\n",
       "         [-0.1662, -0.6627,  1.2528, -1.9237,  0.2274],\n",
       "         [-0.5747, -0.5341,  0.4410, -0.6291,  0.7684]],\n",
       "\n",
       "        [[ 0.8631, -0.5274, -0.2939,  0.8135,  0.5224],\n",
       "         [-1.2194,  0.2534,  0.4921,  0.8048, -0.3385],\n",
       "         [ 0.3960, -0.1231, -0.3591,  0.2752, -0.1658],\n",
       "         [-1.8677,  0.7455, -0.9212, -2.6905, -0.8903],\n",
       "         [-1.1841, -1.2913,  2.1250,  0.2817, -0.6642]]])"
      ]
     },
     "execution_count": 174,
     "metadata": {},
     "output_type": "execute_result"
    }
   ],
   "source": [
    "img_t"
   ]
  },
  {
   "cell_type": "code",
   "execution_count": 176,
   "id": "f555779c-0702-4f88-a0a2-8c4ffd189089",
   "metadata": {},
   "outputs": [
    {
     "data": {
      "text/plain": [
       "tensor([[-0.3815, -0.1595,  0.0286,  0.8199,  0.8256],\n",
       "        [-1.0719, -0.5571, -0.1981, -0.9121, -0.3952],\n",
       "        [ 0.9295, -0.1300, -0.7804,  0.3746, -0.7842],\n",
       "        [-0.3721,  0.0171,  0.2354, -1.6710, -0.5199],\n",
       "        [-0.6557,  0.0735,  0.6888, -0.1140, -0.0548]])"
      ]
     },
     "execution_count": 176,
     "metadata": {},
     "output_type": "execute_result"
    }
   ],
   "source": [
    "img_gray_naive"
   ]
  },
  {
   "cell_type": "code",
   "execution_count": 178,
   "id": "1f783ff2-bccb-43e6-9c5a-fab209bacb08",
   "metadata": {},
   "outputs": [
    {
     "data": {
      "text/plain": [
       " 4.0\n",
       " 3.0\n",
       " 5.0\n",
       " 1.0\n",
       " 9.0\n",
       " 2.0\n",
       " 5.0\n",
       " 8.0\n",
       " 7.0\n",
       " 4.0\n",
       " 5.0\n",
       " 8.0\n",
       "[torch.storage.TypedStorage(dtype=torch.float32, device=cpu) of size 12]"
      ]
     },
     "execution_count": 178,
     "metadata": {},
     "output_type": "execute_result"
    }
   ],
   "source": [
    "points.storage()"
   ]
  },
  {
   "cell_type": "code",
   "execution_count": 184,
   "id": "cfd5b9ee-a3b5-4145-bca6-693f5f475ebe",
   "metadata": {},
   "outputs": [
    {
     "data": {
      "text/plain": [
       "2.0"
      ]
     },
     "execution_count": 184,
     "metadata": {},
     "output_type": "execute_result"
    }
   ],
   "source": [
    "points_storage = points.storage()\n",
    "points_storage[5]"
   ]
  },
  {
   "cell_type": "code",
   "execution_count": 186,
   "id": "f9d28bcd-21ef-4d0a-90a9-c6377daa4ea9",
   "metadata": {},
   "outputs": [],
   "source": [
    "points = torch.tensor([[4.,1.], [5.,3.], [2.,1.]])"
   ]
  },
  {
   "cell_type": "code",
   "execution_count": 206,
   "id": "be1c19ec-9ecf-40a9-8156-4e8896a38eba",
   "metadata": {},
   "outputs": [],
   "source": [
    "second_point = points[2]"
   ]
  },
  {
   "cell_type": "code",
   "execution_count": 208,
   "id": "ce798da4-2c6e-4eb7-8e90-ceace252ec4f",
   "metadata": {},
   "outputs": [
    {
     "data": {
      "text/plain": [
       "4"
      ]
     },
     "execution_count": 208,
     "metadata": {},
     "output_type": "execute_result"
    }
   ],
   "source": [
    "second_point.storage_offset()"
   ]
  },
  {
   "cell_type": "code",
   "execution_count": 210,
   "id": "f97ff2ce-926b-468c-aebc-9247fcb6cb59",
   "metadata": {},
   "outputs": [
    {
     "data": {
      "text/plain": [
       "torch.Size([2])"
      ]
     },
     "execution_count": 210,
     "metadata": {},
     "output_type": "execute_result"
    }
   ],
   "source": [
    "second_point.size()"
   ]
  },
  {
   "cell_type": "code",
   "execution_count": 212,
   "id": "1e5dd58e-e0c9-49d0-a9f8-b2a09fcf0f86",
   "metadata": {},
   "outputs": [
    {
     "data": {
      "text/plain": [
       "0"
      ]
     },
     "execution_count": 212,
     "metadata": {},
     "output_type": "execute_result"
    }
   ],
   "source": [
    "points.storage_offset()"
   ]
  },
  {
   "cell_type": "code",
   "execution_count": 218,
   "id": "8907753d-f891-4d9f-b47f-c9a78de5b8a9",
   "metadata": {},
   "outputs": [
    {
     "data": {
      "text/plain": [
       "(6, 3, 1)"
      ]
     },
     "execution_count": 218,
     "metadata": {},
     "output_type": "execute_result"
    }
   ],
   "source": [
    "points.stride()"
   ]
  },
  {
   "cell_type": "code",
   "execution_count": 220,
   "id": "876f0da2-795d-42f3-8870-948f01a630fd",
   "metadata": {},
   "outputs": [],
   "source": [
    "points_gpu = points.to(device = 'cuda')"
   ]
  },
  {
   "cell_type": "code",
   "execution_count": 222,
   "id": "22ad07dc-cb22-4b10-b729-4548b1ef86fe",
   "metadata": {},
   "outputs": [
    {
     "data": {
      "text/plain": [
       "tensor([[[4., 3., 5.],\n",
       "         [1., 9., 2.]],\n",
       "\n",
       "        [[5., 8., 7.],\n",
       "         [4., 5., 8.]]], device='cuda:0')"
      ]
     },
     "execution_count": 222,
     "metadata": {},
     "output_type": "execute_result"
    }
   ],
   "source": [
    "points_gpu"
   ]
  },
  {
   "cell_type": "code",
   "execution_count": 8,
   "id": "24bc8d7f-9ab3-4f59-8cc6-1ddafe042b56",
   "metadata": {},
   "outputs": [],
   "source": [
    "import imageio"
   ]
  },
  {
   "cell_type": "code",
   "execution_count": 6,
   "id": "1c4ccab4-0150-4113-8902-269191a31eee",
   "metadata": {},
   "outputs": [
    {
     "name": "stdout",
     "output_type": "stream",
     "text": [
      "Collecting imageio\n",
      "  Downloading imageio-2.35.1-py3-none-any.whl.metadata (4.9 kB)\n",
      "Requirement already satisfied: numpy in c:\\users\\satya\\anaconda3\\envs\\pytorch_env\\lib\\site-packages (from imageio) (1.24.3)\n",
      "Requirement already satisfied: pillow>=8.3.2 in c:\\users\\satya\\anaconda3\\envs\\pytorch_env\\lib\\site-packages (from imageio) (10.4.0)\n",
      "Downloading imageio-2.35.1-py3-none-any.whl (315 kB)\n",
      "Installing collected packages: imageio\n",
      "Successfully installed imageio-2.35.1\n",
      "Note: you may need to restart the kernel to use updated packages.\n"
     ]
    },
    {
     "name": "stderr",
     "output_type": "stream",
     "text": [
      "  WARNING: The scripts imageio_download_bin.exe and imageio_remove_bin.exe are installed in 'C:\\Users\\satya\\anaconda3\\envs\\pytorch_env\\Scripts' which is not on PATH.\n",
      "  Consider adding this directory to PATH or, if you prefer to suppress this warning, use --no-warn-script-location.\n"
     ]
    }
   ],
   "source": [
    "pip install imageio"
   ]
  },
  {
   "cell_type": "code",
   "execution_count": 12,
   "id": "6a4c420d-bda5-425c-94db-4ff837cbd2ba",
   "metadata": {},
   "outputs": [
    {
     "name": "stderr",
     "output_type": "stream",
     "text": [
      "C:\\Users\\satya\\AppData\\Local\\Temp\\ipykernel_3924\\1592839461.py:1: DeprecationWarning: Starting with ImageIO v3 the behavior of this function will switch to that of iio.v3.imread. To keep the current behavior (and make this warning disappear) use `import imageio.v2 as imageio` or call `imageio.v2.imread` directly.\n",
      "  img_arr = imageio.imread(r\"C:\\Users\\satya\\Downloads\\bobby.jpg\")\n"
     ]
    }
   ],
   "source": [
    "img_arr = imageio.imread(r\"C:\\Users\\satya\\Downloads\\bobby.jpg\")"
   ]
  },
  {
   "cell_type": "code",
   "execution_count": 16,
   "id": "ae560be5-76c6-4de1-b832-5fb1697ff0c3",
   "metadata": {},
   "outputs": [
    {
     "data": {
      "text/plain": [
       "(720, 1280, 3)"
      ]
     },
     "execution_count": 16,
     "metadata": {},
     "output_type": "execute_result"
    }
   ],
   "source": [
    "img_arr.shape"
   ]
  },
  {
   "cell_type": "code",
   "execution_count": 21,
   "id": "42635872-8a82-42b0-927e-af55dcc9a245",
   "metadata": {},
   "outputs": [],
   "source": [
    "img = torch.from_numpy(img_arr)"
   ]
  },
  {
   "cell_type": "code",
   "execution_count": 24,
   "id": "eaf8cd07-15ee-4474-af19-7b3ea33d7461",
   "metadata": {},
   "outputs": [],
   "source": [
    "out = img.permute(2,0,1)"
   ]
  },
  {
   "cell_type": "code",
   "execution_count": 30,
   "id": "78176c8c-0e38-4ba4-833c-52fe5483881b",
   "metadata": {},
   "outputs": [
    {
     "data": {
      "text/plain": [
       "torch.Size([720, 1280, 3])"
      ]
     },
     "execution_count": 30,
     "metadata": {},
     "output_type": "execute_result"
    }
   ],
   "source": [
    "img.shape"
   ]
  },
  {
   "cell_type": "code",
   "execution_count": 6,
   "id": "ce500df4-c0f0-459a-bb50-b5e11117a11e",
   "metadata": {},
   "outputs": [
    {
     "data": {
      "text/plain": [
       "True"
      ]
     },
     "execution_count": 6,
     "metadata": {},
     "output_type": "execute_result"
    }
   ],
   "source": [
    "torch.cuda.is_available()"
   ]
  },
  {
   "cell_type": "code",
   "execution_count": 4,
   "id": "4e74a9e2-8aee-4d2c-b49d-c363e625e96a",
   "metadata": {},
   "outputs": [],
   "source": [
    "t_c = [0.5, 14.0, 15.0, 28.0, 11.0, 8.0, 3.0,-4.0, 6.0, 13.0, 21.0]\n",
    "t_u = [35.7, 55.9, 58.2, 81.9, 56.3, 48.9, 33.9, 21.8, 48.4, 60.4, 68.4]\n",
    "t_c = torch.tensor(t_c)\n",
    "t_u = torch.tensor(t_u)"
   ]
  },
  {
   "cell_type": "code",
   "execution_count": 6,
   "id": "be77a687-55cb-45f8-a38b-aacbabe8831a",
   "metadata": {},
   "outputs": [
    {
     "ename": "ModuleNotFoundError",
     "evalue": "No module named 'matplotlib'",
     "output_type": "error",
     "traceback": [
      "\u001b[1;31m---------------------------------------------------------------------------\u001b[0m",
      "\u001b[1;31mModuleNotFoundError\u001b[0m                       Traceback (most recent call last)",
      "Cell \u001b[1;32mIn[6], line 1\u001b[0m\n\u001b[1;32m----> 1\u001b[0m \u001b[38;5;28;01mimport\u001b[39;00m \u001b[38;5;21;01mmatplotlib\u001b[39;00m\u001b[38;5;21;01m.\u001b[39;00m\u001b[38;5;21;01mpyplot\u001b[39;00m \u001b[38;5;28;01mas\u001b[39;00m \u001b[38;5;21;01mplt\u001b[39;00m\n",
      "\u001b[1;31mModuleNotFoundError\u001b[0m: No module named 'matplotlib'"
     ]
    }
   ],
   "source": [
    "import matplotlib.pyplot as plt"
   ]
  },
  {
   "cell_type": "code",
   "execution_count": 8,
   "id": "dae51c07-7c5b-4a54-9dd2-bad2b01d160d",
   "metadata": {},
   "outputs": [
    {
     "name": "stdout",
     "output_type": "stream",
     "text": [
      "Note: you may need to restart the kernel to use updated packages.\n"
     ]
    },
    {
     "name": "stderr",
     "output_type": "stream",
     "text": [
      "ERROR: Could not find a version that satisfies the requirement matplotlib.pyplot (from versions: none)\n",
      "ERROR: No matching distribution found for matplotlib.pyplot\n"
     ]
    }
   ],
   "source": [
    "pip install matplotlib.pyplot"
   ]
  },
  {
   "cell_type": "code",
   "execution_count": 10,
   "id": "3f9dafdf-94d9-4601-aa4e-657e0bd52065",
   "metadata": {},
   "outputs": [],
   "source": [
    "def model(t_u, w, b):\n",
    "    return w * t_u +b"
   ]
  },
  {
   "cell_type": "code",
   "execution_count": 12,
   "id": "6ab80a69-ab3b-403b-83ba-e4eaa95b568d",
   "metadata": {},
   "outputs": [],
   "source": [
    "def loss_fn(t_p, t_c):\n",
    "    squared_diffs = (t_p - t_c)**2\n",
    "    return squared_diffs.mean()"
   ]
  },
  {
   "cell_type": "code",
   "execution_count": 14,
   "id": "8e5b32a7-cab6-44e0-90c7-d70475844a23",
   "metadata": {},
   "outputs": [],
   "source": [
    "w = torch.ones(())\n",
    "b = torch.zeros(())"
   ]
  },
  {
   "cell_type": "code",
   "execution_count": 16,
   "id": "d2ba304e-4436-4d09-be58-046fb83dd85a",
   "metadata": {},
   "outputs": [
    {
     "data": {
      "text/plain": [
       "tensor([35.7000, 55.9000, 58.2000, 81.9000, 56.3000, 48.9000, 33.9000, 21.8000,\n",
       "        48.4000, 60.4000, 68.4000])"
      ]
     },
     "execution_count": 16,
     "metadata": {},
     "output_type": "execute_result"
    }
   ],
   "source": [
    "t_p = model(t_u, w, b)\n",
    "t_p"
   ]
  },
  {
   "cell_type": "code",
   "execution_count": 18,
   "id": "44567aed-88af-4910-b10b-0531e7f2efb0",
   "metadata": {},
   "outputs": [
    {
     "data": {
      "text/plain": [
       "tensor(1763.8848)"
      ]
     },
     "execution_count": 18,
     "metadata": {},
     "output_type": "execute_result"
    }
   ],
   "source": [
    "loss = loss_fn(t_p, t_c)\n",
    "loss"
   ]
  },
  {
   "cell_type": "code",
   "execution_count": 22,
   "id": "46934295-0ac0-4021-986c-90a03ac43173",
   "metadata": {},
   "outputs": [],
   "source": [
    "delta = 0.1 #learning rate"
   ]
  },
  {
   "cell_type": "code",
   "execution_count": 24,
   "id": "2fc6313d-a871-498e-878b-47394a7e3a31",
   "metadata": {},
   "outputs": [],
   "source": [
    "loss_rate_of_change_w = (loss_fn(model(t_u, w + delta, b), t_c) - loss_fn(model(t_u, w - delta, b), t_c)) / (2.0 * delta)"
   ]
  },
  {
   "cell_type": "markdown",
   "id": "31e1c0bc-f3d8-4d49-8fb7-025bb0bb5fcb",
   "metadata": {},
   "source": [
    "## Autograd"
   ]
  },
  {
   "cell_type": "code",
   "execution_count": 201,
   "id": "2f5c7475-dbc7-472b-ab7f-a73e3096657f",
   "metadata": {},
   "outputs": [],
   "source": [
    "x = torch.tensor(3.0, requires_grad=True)"
   ]
  },
  {
   "cell_type": "code",
   "execution_count": 203,
   "id": "86b71e08-883f-49a5-bde9-33f0de4a3925",
   "metadata": {},
   "outputs": [],
   "source": [
    "y = x**2"
   ]
  },
  {
   "cell_type": "code",
   "execution_count": 205,
   "id": "59eeda86-28e6-47bd-bc71-43ed31ceee08",
   "metadata": {},
   "outputs": [
    {
     "data": {
      "text/plain": [
       "tensor(9., grad_fn=<PowBackward0>)"
      ]
     },
     "execution_count": 205,
     "metadata": {},
     "output_type": "execute_result"
    }
   ],
   "source": [
    "y"
   ]
  },
  {
   "cell_type": "code",
   "execution_count": 207,
   "id": "25a580d5-0c26-4bdb-a4fa-488eebd1a669",
   "metadata": {},
   "outputs": [],
   "source": [
    "z = torch.sin(y)"
   ]
  },
  {
   "cell_type": "code",
   "execution_count": 209,
   "id": "f5c88f0b-a9c7-4ece-8598-4cae3a0e1714",
   "metadata": {},
   "outputs": [],
   "source": [
    "z.backward()"
   ]
  },
  {
   "cell_type": "code",
   "execution_count": 211,
   "id": "6a8f8ce4-5671-48c5-ac1d-c96e4d8cbcd7",
   "metadata": {},
   "outputs": [
    {
     "data": {
      "text/plain": [
       "tensor(-5.4668)"
      ]
     },
     "execution_count": 211,
     "metadata": {},
     "output_type": "execute_result"
    }
   ],
   "source": [
    "x.grad"
   ]
  },
  {
   "cell_type": "code",
   "execution_count": 225,
   "id": "cae80695-b032-4991-a257-6a64876389da",
   "metadata": {},
   "outputs": [
    {
     "data": {
      "text/plain": [
       "tensor(-5.4668)"
      ]
     },
     "execution_count": 225,
     "metadata": {},
     "output_type": "execute_result"
    }
   ],
   "source": [
    "x.grad"
   ]
  },
  {
   "cell_type": "code",
   "execution_count": null,
   "id": "65c49f05-7075-4858-90c0-e3f1da8834a7",
   "metadata": {},
   "outputs": [],
   "source": []
  },
  {
   "cell_type": "code",
   "execution_count": 75,
   "id": "0b4f7c44-c6aa-422b-9962-2f0c8cbb8620",
   "metadata": {},
   "outputs": [],
   "source": [
    "x = torch.tensor(6.7)\n",
    "y = torch.tensor(0.0)"
   ]
  },
  {
   "cell_type": "code",
   "execution_count": 67,
   "id": "d132d99b-eedc-46e4-aa3b-1b21d68628ef",
   "metadata": {},
   "outputs": [
    {
     "data": {
      "text/plain": [
       "tensor(1., requires_grad=True)"
      ]
     },
     "execution_count": 67,
     "metadata": {},
     "output_type": "execute_result"
    }
   ],
   "source": [
    "w = torch.tensor(1.0, requires_grad = True)\n",
    "w"
   ]
  },
  {
   "cell_type": "code",
   "execution_count": 69,
   "id": "41cd55df-a7a3-4e37-a9cc-d06a76c7a0c3",
   "metadata": {},
   "outputs": [
    {
     "data": {
      "text/plain": [
       "tensor(0., requires_grad=True)"
      ]
     },
     "execution_count": 69,
     "metadata": {},
     "output_type": "execute_result"
    }
   ],
   "source": [
    "b = torch.tensor(0.0, requires_grad = True)\n",
    "b"
   ]
  },
  {
   "cell_type": "code",
   "execution_count": 71,
   "id": "c41ab738-c0f8-4d63-99a4-aea2a618e483",
   "metadata": {},
   "outputs": [],
   "source": [
    "z = w * x  +  b"
   ]
  },
  {
   "cell_type": "code",
   "execution_count": 81,
   "id": "eaa32106-c66f-4158-acfc-10d98f9e7455",
   "metadata": {},
   "outputs": [
    {
     "data": {
      "text/plain": [
       "tensor(0.9988, grad_fn=<SigmoidBackward0>)"
      ]
     },
     "execution_count": 81,
     "metadata": {},
     "output_type": "execute_result"
    }
   ],
   "source": [
    "y_pred = torch.sigmoid(z)\n",
    "y_pred"
   ]
  },
  {
   "cell_type": "code",
   "execution_count": 89,
   "id": "347d0622-7a28-4e01-bb35-c483df833a1f",
   "metadata": {},
   "outputs": [
    {
     "data": {
      "text/plain": [
       "tensor(6.7012, grad_fn=<NegBackward0>)"
      ]
     },
     "execution_count": 89,
     "metadata": {},
     "output_type": "execute_result"
    }
   ],
   "source": [
    "loss = binary_cross_entropy_loss(y_pred, y)\n",
    "loss"
   ]
  },
  {
   "cell_type": "code",
   "execution_count": 85,
   "id": "7a6a651f-4149-4b09-9dce-bf1981fc4e6e",
   "metadata": {},
   "outputs": [],
   "source": [
    "def binary_cross_entropy_loss(prediction, target):\n",
    "    epsilon = 1e-8  # To prevent log(0)\n",
    "    prediction = torch.clamp(prediction, epsilon, 1 - epsilon)\n",
    "    return -(target * torch.log(prediction) + (1 - target) * torch.log(1 - prediction))"
   ]
  },
  {
   "cell_type": "code",
   "execution_count": 91,
   "id": "d207232c-9f07-4bd3-a5c9-ece811392682",
   "metadata": {},
   "outputs": [],
   "source": [
    "loss.backward()"
   ]
  },
  {
   "cell_type": "code",
   "execution_count": 99,
   "id": "31d12aaf-bc5d-44fe-8f04-6d617df85d40",
   "metadata": {},
   "outputs": [
    {
     "data": {
      "text/plain": [
       "tensor(0.9988)"
      ]
     },
     "execution_count": 99,
     "metadata": {},
     "output_type": "execute_result"
    }
   ],
   "source": [
    "b.grad"
   ]
  },
  {
   "cell_type": "code",
   "execution_count": 103,
   "id": "2a4a8b85-e5cc-4844-9314-0f726d31b71c",
   "metadata": {},
   "outputs": [
    {
     "name": "stdout",
     "output_type": "stream",
     "text": [
      "tensor(6.6918)\n"
     ]
    }
   ],
   "source": [
    "print(w.grad)"
   ]
  },
  {
   "cell_type": "code",
   "execution_count": 105,
   "id": "57ed76bd-b053-41a9-8661-2c3df451e316",
   "metadata": {},
   "outputs": [],
   "source": [
    "x = torch.tensor([1.0, 2.0, 3.0], requires_grad = True)"
   ]
  },
  {
   "cell_type": "code",
   "execution_count": 107,
   "id": "9b653401-99be-4674-a2e1-be0fad8bbe7d",
   "metadata": {},
   "outputs": [
    {
     "data": {
      "text/plain": [
       "tensor([1., 2., 3.], requires_grad=True)"
      ]
     },
     "execution_count": 107,
     "metadata": {},
     "output_type": "execute_result"
    }
   ],
   "source": [
    "x"
   ]
  },
  {
   "cell_type": "code",
   "execution_count": 111,
   "id": "d9fe04ed-c8eb-491d-be1f-5f1dec01e81c",
   "metadata": {},
   "outputs": [
    {
     "data": {
      "text/plain": [
       "tensor(4.6667, grad_fn=<MeanBackward0>)"
      ]
     },
     "execution_count": 111,
     "metadata": {},
     "output_type": "execute_result"
    }
   ],
   "source": [
    "y = (x**2).mean()\n",
    "y"
   ]
  },
  {
   "cell_type": "code",
   "execution_count": 113,
   "id": "79dbf8f8-77f2-472b-b59f-875b70080eb0",
   "metadata": {},
   "outputs": [],
   "source": [
    "y.backward()"
   ]
  },
  {
   "cell_type": "code",
   "execution_count": 115,
   "id": "eb77bde7-52af-4377-9082-53f5a1a56aa5",
   "metadata": {},
   "outputs": [
    {
     "data": {
      "text/plain": [
       "tensor([0.6667, 1.3333, 2.0000])"
      ]
     },
     "execution_count": 115,
     "metadata": {},
     "output_type": "execute_result"
    }
   ],
   "source": [
    "x.grad"
   ]
  },
  {
   "cell_type": "code",
   "execution_count": 141,
   "id": "2fd3f101-e1ec-46e0-9ae9-1f2df83f93a4",
   "metadata": {},
   "outputs": [
    {
     "data": {
      "text/plain": [
       "tensor(2., requires_grad=True)"
      ]
     },
     "execution_count": 141,
     "metadata": {},
     "output_type": "execute_result"
    }
   ],
   "source": [
    "x = torch.tensor(2.0, requires_grad = True)\n",
    "x"
   ]
  },
  {
   "cell_type": "code",
   "execution_count": 174,
   "id": "ddf332cd-8f83-4221-b83d-319b49b0f0a0",
   "metadata": {},
   "outputs": [
    {
     "data": {
      "text/plain": [
       "tensor(4., grad_fn=<PowBackward0>)"
      ]
     },
     "execution_count": 174,
     "metadata": {},
     "output_type": "execute_result"
    }
   ],
   "source": [
    "y = x**2\n",
    "y"
   ]
  },
  {
   "cell_type": "code",
   "execution_count": 176,
   "id": "e252246a-1ba6-4a8b-bd42-dea386b4d201",
   "metadata": {},
   "outputs": [],
   "source": [
    "y.backward()"
   ]
  },
  {
   "cell_type": "code",
   "execution_count": 177,
   "id": "da18c896-d0be-4da8-ae7b-6bdad6ec5bb3",
   "metadata": {},
   "outputs": [
    {
     "data": {
      "text/plain": [
       "tensor(4.)"
      ]
     },
     "execution_count": 177,
     "metadata": {},
     "output_type": "execute_result"
    }
   ],
   "source": [
    "x.grad"
   ]
  },
  {
   "cell_type": "code",
   "execution_count": 182,
   "id": "ee72b779-bf34-4f18-b6ee-9aa85a2a768a",
   "metadata": {},
   "outputs": [
    {
     "data": {
      "text/plain": [
       "tensor(0.)"
      ]
     },
     "execution_count": 182,
     "metadata": {},
     "output_type": "execute_result"
    }
   ],
   "source": [
    "x.grad.zero_()"
   ]
  },
  {
   "cell_type": "code",
   "execution_count": 186,
   "id": "ba444d41-d4a3-437e-84a2-c3d9819a4059",
   "metadata": {},
   "outputs": [
    {
     "data": {
      "text/plain": [
       "tensor(2.)"
      ]
     },
     "execution_count": 186,
     "metadata": {},
     "output_type": "execute_result"
    }
   ],
   "source": [
    "x.requires_grad_(False)\n",
    "# always close the gradient trackin"
   ]
  },
  {
   "cell_type": "code",
   "execution_count": 190,
   "id": "1a80a9db-fb3a-4ecc-8659-77c60b4b5635",
   "metadata": {},
   "outputs": [
    {
     "data": {
      "text/plain": [
       "tensor(2.)"
      ]
     },
     "execution_count": 190,
     "metadata": {},
     "output_type": "execute_result"
    }
   ],
   "source": [
    "z = x.detach()\n",
    "z"
   ]
  },
  {
   "cell_type": "code",
   "execution_count": 192,
   "id": "e7c48b7a-50d2-4329-ad7a-fa82f034ff50",
   "metadata": {},
   "outputs": [],
   "source": [
    "with torch.no_grad():\n",
    "    y = x ** 2"
   ]
  },
  {
   "cell_type": "code",
   "execution_count": 194,
   "id": "0b707e0a-fa59-4882-8f2c-2dff599d7908",
   "metadata": {},
   "outputs": [
    {
     "data": {
      "text/plain": [
       "tensor(4.)"
      ]
     },
     "execution_count": 194,
     "metadata": {},
     "output_type": "execute_result"
    }
   ],
   "source": [
    "y"
   ]
  },
  {
   "cell_type": "code",
   "execution_count": 196,
   "id": "fd6b3b12-43a5-449c-a791-c4e9c7b6baaf",
   "metadata": {},
   "outputs": [
    {
     "ename": "AttributeError",
     "evalue": "'Tensor' object has no attribute 'bachward'",
     "output_type": "error",
     "traceback": [
      "\u001b[1;31m---------------------------------------------------------------------------\u001b[0m",
      "\u001b[1;31mAttributeError\u001b[0m                            Traceback (most recent call last)",
      "Cell \u001b[1;32mIn[196], line 1\u001b[0m\n\u001b[1;32m----> 1\u001b[0m \u001b[43my\u001b[49m\u001b[38;5;241;43m.\u001b[39;49m\u001b[43mbachward\u001b[49m()\n",
      "\u001b[1;31mAttributeError\u001b[0m: 'Tensor' object has no attribute 'bachward'"
     ]
    }
   ],
   "source": [
    "y.bachward()"
   ]
  },
  {
   "cell_type": "code",
   "execution_count": null,
   "id": "3e7e1f8f-9ad3-4f74-b029-dc41835751ed",
   "metadata": {},
   "outputs": [],
   "source": []
  }
 ],
 "metadata": {
  "kernelspec": {
   "display_name": "Python (pytorch_env)",
   "language": "python",
   "name": "pytorch_env"
  },
  "language_info": {
   "codemirror_mode": {
    "name": "ipython",
    "version": 3
   },
   "file_extension": ".py",
   "mimetype": "text/x-python",
   "name": "python",
   "nbconvert_exporter": "python",
   "pygments_lexer": "ipython3",
   "version": "3.8.20"
  }
 },
 "nbformat": 4,
 "nbformat_minor": 5
}
