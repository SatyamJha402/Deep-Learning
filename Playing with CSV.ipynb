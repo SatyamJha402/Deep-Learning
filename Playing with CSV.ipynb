{
 "cells": [
  {
   "cell_type": "code",
   "execution_count": 1,
   "id": "0f5b363e-4c87-49c8-90f6-3ecaa559028f",
   "metadata": {},
   "outputs": [
    {
     "name": "stdout",
     "output_type": "stream",
     "text": [
      "20\n"
     ]
    }
   ],
   "source": [
    "def hello(x):\n",
    "    x = x+10\n",
    "    return x\n",
    "\n",
    "y = hello(10)\n",
    "print(y)"
   ]
  },
  {
   "cell_type": "code",
   "execution_count": 2,
   "id": "4f0f7007-f735-4909-baf9-21d823ce002c",
   "metadata": {},
   "outputs": [
    {
     "name": "stdout",
     "output_type": "stream",
     "text": [
      "20\n"
     ]
    }
   ],
   "source": [
    "def big(x, y):\n",
    "    if x>y:\n",
    "        return x\n",
    "    else:\n",
    "        return y\n",
    "\n",
    "a = big(10,20)\n",
    "print(a)"
   ]
  },
  {
   "cell_type": "code",
   "execution_count": 3,
   "id": "40c3a737-8a16-449e-825e-b911eb629a7a",
   "metadata": {},
   "outputs": [],
   "source": [
    "def compare(x,y):\n",
    "    if x>y:\n",
    "        return x,y\n",
    "    else:\n",
    "        return y,x\n",
    "\n",
    "big, small = compare(10,20)"
   ]
  },
  {
   "cell_type": "code",
   "execution_count": 4,
   "id": "78395066-abaf-46a4-b684-41805d158e18",
   "metadata": {},
   "outputs": [
    {
     "name": "stdout",
     "output_type": "stream",
     "text": [
      "the larger number is 20, the smaller number is 10\n"
     ]
    }
   ],
   "source": [
    "print(f\"the larger number is {big}, the smaller number is {small}\")"
   ]
  },
  {
   "cell_type": "code",
   "execution_count": 5,
   "id": "68d192a5-7dbd-4a83-bd5a-6042a1fe35e8",
   "metadata": {},
   "outputs": [],
   "source": [
    "data = [20,0,16,3,32,0,4,8,0,15,0,6]\n",
    "def zfilter(data):\n",
    "    zero=[]\n",
    "    value=[]\n",
    "    for i in data:\n",
    "        if i == 0:\n",
    "            zero.append(i)\n",
    "        else:\n",
    "            value.append(i)\n",
    "\n",
    "    return zero, value"
   ]
  },
  {
   "cell_type": "code",
   "execution_count": 6,
   "id": "6662f7b0-af86-4610-a107-260120ff821f",
   "metadata": {},
   "outputs": [],
   "source": [
    "zero, value = zfilter(data)"
   ]
  },
  {
   "cell_type": "code",
   "execution_count": 7,
   "id": "099b7b72-d62a-46bf-b14a-9d29e5fe3d68",
   "metadata": {},
   "outputs": [
    {
     "data": {
      "text/plain": [
       "([0, 0, 0, 0], [20, 16, 3, 32, 4, 8, 15, 6])"
      ]
     },
     "execution_count": 7,
     "metadata": {},
     "output_type": "execute_result"
    }
   ],
   "source": [
    "zero, value"
   ]
  },
  {
   "cell_type": "code",
   "execution_count": 8,
   "id": "a3d0eae8-976b-4233-8d96-03a134a3694a",
   "metadata": {},
   "outputs": [],
   "source": [
    "def num(data):\n",
    "    even=[]\n",
    "    odd=[]\n",
    "    for i in data:\n",
    "        if i%2==0:\n",
    "            even.append(i)\n",
    "        else:\n",
    "            odd.append(i)\n",
    "    return even, odd\n",
    "\n",
    "x=[1,2,3,4,5,8,9,11,15,14]\n",
    "even, odd = num(x)"
   ]
  },
  {
   "cell_type": "code",
   "execution_count": 9,
   "id": "7dc5b534-f8d6-45bb-ac9e-835f5c266678",
   "metadata": {},
   "outputs": [
    {
     "data": {
      "text/plain": [
       "([2, 4, 8, 14], [1, 3, 5, 9, 11, 15])"
      ]
     },
     "execution_count": 9,
     "metadata": {},
     "output_type": "execute_result"
    }
   ],
   "source": [
    "even, odd"
   ]
  },
  {
   "cell_type": "code",
   "execution_count": 10,
   "id": "5aa741a5-e724-4da4-b3c1-84703a61ad6b",
   "metadata": {},
   "outputs": [],
   "source": [
    "x=[1,-2,3,-4,-5,8,-9,11,-15,14]\n",
    "even, odd = num(x)"
   ]
  },
  {
   "cell_type": "code",
   "execution_count": 11,
   "id": "00fe3880-31d7-4178-a732-a4df7cf4bbe6",
   "metadata": {},
   "outputs": [
    {
     "data": {
      "text/plain": [
       "([-2, -4, 8, 14], [1, 3, -5, -9, 11, -15])"
      ]
     },
     "execution_count": 11,
     "metadata": {},
     "output_type": "execute_result"
    }
   ],
   "source": [
    "even, odd"
   ]
  },
  {
   "cell_type": "code",
   "execution_count": 12,
   "id": "8dc5aaef-5d49-4406-b1de-4ace15ab7248",
   "metadata": {},
   "outputs": [],
   "source": [
    "def num(data):\n",
    "    pos=[]\n",
    "    neg=[]\n",
    "    for i in data:\n",
    "        if i>=0:\n",
    "            pos.append(i)\n",
    "        else:\n",
    "            neg.append(i)\n",
    "    return pos, neg\n",
    "\n",
    "x=[1,-2,3,-4,-5,8,-9,11,-15,14]\n",
    "pos, neg = num(x)"
   ]
  },
  {
   "cell_type": "code",
   "execution_count": 13,
   "id": "2f6699c1-5bce-49a3-8e48-0e9959bf6409",
   "metadata": {},
   "outputs": [
    {
     "data": {
      "text/plain": [
       "([1, 3, 8, 11, 14], [-2, -4, -5, -9, -15])"
      ]
     },
     "execution_count": 13,
     "metadata": {},
     "output_type": "execute_result"
    }
   ],
   "source": [
    "pos, neg"
   ]
  },
  {
   "cell_type": "code",
   "execution_count": 31,
   "id": "32fb2e3c-afcd-46d6-a5d2-536db5ed85c8",
   "metadata": {},
   "outputs": [],
   "source": [
    "class student:\n",
    "    def __init__(self, name, marks):\n",
    "        self.name = name\n",
    "        self.marks = marks\n",
    "\n",
    "    def display(self):\n",
    "        print(f\"marks of {self.name} is {self.marks}\")\n",
    "\n"
   ]
  },
  {
   "cell_type": "code",
   "execution_count": 35,
   "id": "5c44faa5-0677-4568-ae4a-86ea8cb0cfc7",
   "metadata": {},
   "outputs": [
    {
     "name": "stdout",
     "output_type": "stream",
     "text": [
      "marks of amit is 20\n"
     ]
    }
   ],
   "source": [
    "s1 = student(\"amit\", 20)\n",
    "s1.display()"
   ]
  },
  {
   "cell_type": "code",
   "execution_count": 67,
   "id": "a6c84aac-3869-4412-b9bc-434a3a78ca62",
   "metadata": {},
   "outputs": [],
   "source": [
    "class result:\n",
    "    average = 0\n",
    "    def __init__(self, name, physics, chemistry, maths):\n",
    "        self.name = name\n",
    "        self.physics = physics\n",
    "        self.chemistry = chemistry\n",
    "        self.maths = maths\n",
    "\n",
    "    def display(self):\n",
    "        self.average = (self.physics + self.chemistry + self.maths)/3\n",
    "        print(f\"average marks of {self.name} is {self.average}\")\n",
    "\n",
    "    def passing(self):\n",
    "        if self.average < 30:\n",
    "            print(f\"{self.name} has failed\")\n",
    "        else:\n",
    "            print(f\"{self.name} has not failed\")"
   ]
  },
  {
   "cell_type": "code",
   "execution_count": 68,
   "id": "92be93fa-6906-43f1-abda-aa08aeef6e3e",
   "metadata": {},
   "outputs": [
    {
     "name": "stdout",
     "output_type": "stream",
     "text": [
      "average marks of amit is 60.0\n"
     ]
    }
   ],
   "source": [
    "s1 = result(\"amit\", 50,60,70)\n",
    "s1.display()"
   ]
  },
  {
   "cell_type": "code",
   "execution_count": 69,
   "id": "980a5df9-cad6-4bab-a22f-fad47209fad4",
   "metadata": {},
   "outputs": [
    {
     "name": "stdout",
     "output_type": "stream",
     "text": [
      "amit has not failed\n"
     ]
    }
   ],
   "source": [
    "s1.passing()"
   ]
  },
  {
   "cell_type": "code",
   "execution_count": null,
   "id": "8013f085-a458-41d6-b521-2e89aae8fa8a",
   "metadata": {},
   "outputs": [],
   "source": []
  }
 ],
 "metadata": {
  "kernelspec": {
   "display_name": "Python 3 (ipykernel)",
   "language": "python",
   "name": "python3"
  },
  "language_info": {
   "codemirror_mode": {
    "name": "ipython",
    "version": 3
   },
   "file_extension": ".py",
   "mimetype": "text/x-python",
   "name": "python",
   "nbconvert_exporter": "python",
   "pygments_lexer": "ipython3",
   "version": "3.12.4"
  }
 },
 "nbformat": 4,
 "nbformat_minor": 5
}
